{
  "nbformat": 4,
  "nbformat_minor": 0,
  "metadata": {
    "colab": {
      "provenance": [],
      "toc_visible": true,
      "authorship_tag": "ABX9TyNdvZbSEON0/cCa2cHFAOuC",
      "include_colab_link": true
    },
    "kernelspec": {
      "name": "python3",
      "display_name": "Python 3"
    },
    "language_info": {
      "name": "python"
    }
  },
  "cells": [
    {
      "cell_type": "markdown",
      "metadata": {
        "id": "view-in-github",
        "colab_type": "text"
      },
      "source": [
        "<a href=\"https://colab.research.google.com/github/visualnnz/2025-1_ComputerVision/blob/main/homework/homework1.ipynb\" target=\"_parent\"><img src=\"https://colab.research.google.com/assets/colab-badge.svg\" alt=\"Open In Colab\"/></a>"
      ]
    },
    {
      "cell_type": "code",
      "execution_count": null,
      "metadata": {
        "id": "kpqEoibVi3NR"
      },
      "outputs": [],
      "source": [
        "x = 3\n",
        "print(type(x)) # Prints \"<class 'int'>\"\n",
        "print(x)       # Prints \"3\"\n",
        "print(x + 1)   # Addition; prints \"4\"\n",
        "print(x - 1)   # Subtraction; prints \"2\"\n",
        "print(x * 2)   # Multiplication; prints \"6\"\n",
        "print(x ** 2)  # Exponentiation; prints \"9\"\n",
        "x += 1\n",
        "print(x)  # Prints \"4\"\n",
        "x *= 2\n",
        "print(x)  # Prints \"8\"\n",
        "y = 2.5\n",
        "print(type(y)) # Prints \"<class 'float'>\"\n",
        "print(y, y + 1, y * 2, y ** 2) # Prints \"2.5 3.5 5.0 6.25\""
      ]
    },
    {
      "cell_type": "markdown",
      "source": [
        "# 마크다운 테스트\n",
        "## Test 1\n",
        "### Test 1-1\n",
        "<br>\n",
        "\n",
        "## Test 2\n",
        "### Test 2-1\n"
      ],
      "metadata": {
        "id": "6l3nEFoZjgdt"
      }
    },
    {
      "cell_type": "markdown",
      "source": [
        "# 마크다운 테스트 2"
      ],
      "metadata": {
        "id": "BdUio3Fnj908"
      }
    },
    {
      "cell_type": "markdown",
      "source": [
        "## Test 2-1"
      ],
      "metadata": {
        "id": "6mp6_kDZkMfB"
      }
    }
  ]
}